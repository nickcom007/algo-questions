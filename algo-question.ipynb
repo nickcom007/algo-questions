{
 "cells": [
  {
   "cell_type": "markdown",
   "metadata": {},
   "source": [
    "# Fine k smallest number such that s = 3^x * 5^y * 7^z  x,y,z>0  K>=1  \n",
    "3 * 5 * 7\n",
    "3^2 * 5 * 7\n",
    "3 * 5^2 * 7\n",
    "3^3 * 5 * 7"
   ]
  },
  {
   "cell_type": "code",
   "execution_count": 79,
   "metadata": {},
   "outputs": [],
   "source": [
    "import heapq\n",
    "def bfs(k):\n",
    "    \n",
    "    pq = []\n",
    "    heapq.heapify(pq)\n",
    "    visited = set()\n",
    "\n",
    "    heapq.heappush(pq,3*5*7)\n",
    "    visited.add(3*5*7)\n",
    "    for i in range(1,k):\n",
    "        currentVal = heapq.heappop(pq)\n",
    "        a = currentVal * 3  # x + 1\n",
    "        b = currentVal * 5  # y + 1\n",
    "        c = currentVal * 7  # z + 1\n",
    "\n",
    "        if a not in visited:\n",
    "            heapq.heappush(pq,a)\n",
    "            visited.add(a)\n",
    "        \n",
    "        if b not in visited:\n",
    "            heapq.heappush(pq,b)\n",
    "            visited.add(b)\n",
    "        \n",
    "        if c not in visited:\n",
    "            heapq.heappush(pq,c)\n",
    "            visited.add(c)\n",
    "    return heapq.heappop(pq)"
   ]
  },
  {
   "cell_type": "code",
   "execution_count": 81,
   "metadata": {},
   "outputs": [
    {
     "data": {
      "text/plain": [
       "1575"
      ]
     },
     "execution_count": 81,
     "metadata": {},
     "output_type": "execute_result"
    }
   ],
   "source": [
    "bfs(6)"
   ]
  },
  {
   "cell_type": "markdown",
   "metadata": {},
   "source": [
    "# Kth Closest Point to <0,0,0>\n",
    "Given three sorted array. Pull one number from each array to from <x,y,z> find the coordinates of the points closest to <0,0,0>.  \n"
   ]
  },
  {
   "cell_type": "code",
   "execution_count": 112,
   "metadata": {},
   "outputs": [],
   "source": [
    "# x^2 + y^2 + z^2\n",
    "# [1,3,5] [2,4] [3,6]\n",
    "#                         [0 0 0]\n",
    "#         [1 0 0]         [0 1 0]          [0 0 1]\n",
    "# [2 0 0][1 1 0][1 0 1]   \n",
    "\n",
    "\n",
    "\n",
    "\n",
    "import heapq\n",
    "def kclosest(listOne,listTwo,listThree,k):\n",
    "\n",
    "    pq = []\n",
    "    heapq.heapify(pq)\n",
    "    dist = listOne[0]**2 + listTwo[0]**2 + listThree[0]**2\n",
    "    visited = set((0,0,0))\n",
    "    heapq.heappush(pq,(dist,0,0,0))\n",
    "    for _ in range(1,k):\n",
    "        _,l,m,n = heapq.heappop(pq)\n",
    "        if (l+1 < len(listOne) and (l+1,m,n) not in visited):\n",
    "            heapq.heappush(pq,(listOne[l+1]**2 + listTwo[m]**2 + listThree[n]**2,l+1,m,n))\n",
    "            visited.add((l+1,m,n))\n",
    "        if (m+1 < len(listTwo) and (l,m+1,n) not in visited):\n",
    "            heapq.heappush(pq,(listOne[l]**2 + listTwo[m+1]**2 + listThree[n]**2,l,m+1,n)) \n",
    "            visited.add((l,m+1,n))\n",
    "        if (n+1 < len(listThree) and (l,m,n+1) not in visited):\n",
    "            heapq.heappush(pq,(listOne[l]**2 + listTwo[m]**2 + listThree[n+1]**2,l,m,n+1))\n",
    "            visited.add((l,m,n+1))\n",
    "    \n",
    "    _,one,two,three = heapq.heappop(pq)\n",
    "    return [listOne[one],listTwo[two],listThree[three]]\n",
    "\n",
    "    "
   ]
  },
  {
   "cell_type": "code",
   "execution_count": 117,
   "metadata": {},
   "outputs": [
    {
     "data": {
      "text/plain": [
       "[5, 4, 6]"
      ]
     },
     "execution_count": 117,
     "metadata": {},
     "output_type": "execute_result"
    }
   ],
   "source": [
    "kclosest([1,3,5],[2,4],[3,6],12)"
   ]
  },
  {
   "cell_type": "markdown",
   "metadata": {},
   "source": [
    "# Seven Puzzle\n",
    "\n",
    "0 1 2 3\n",
    "4 5 6 7  \n",
    "\n",
    "[4,1,2,3,5,0,6,7]  2  \n",
    "[4,1,2,3        [4,1,2,3          [0,1,2,3  \n",
    " 5,0,6,7]  ->   0,5,6,7]    ->  4,5,6,7] "
   ]
  },
  {
   "cell_type": "code",
   "execution_count": 23,
   "metadata": {},
   "outputs": [],
   "source": [
    "from collections import deque\n",
    "'''\n",
    "At each level, at most three next states\n",
    "Assume values[i] = 0\n",
    "1) swap values[i],values[i-4]  up     special case: i == 0,1,2,3\n",
    "2) swap values[i],values[i+4]  down   special case: i == 4,5,6,7\n",
    "3) swap values[i],values[i-1] left    special case: i == 0,4\n",
    "4) swap values[i],values[i+1] right   special case: i == 3,7\n",
    "'''\n",
    "def numOfSteps(values):\n",
    "\n",
    "    queue = deque([])\n",
    "    visited = set()\n",
    "\n",
    "    # initial states\n",
    "    queue.append((values,0))\n",
    "    visited.add(tuple(values))\n",
    "    while len(queue) != 0:\n",
    "        currentState,currentLevel = queue.popleft()\n",
    "        #print(currentState,currentLevel)\n",
    "        \n",
    "        if currentState == [0,1,2,3,4,5,6,7]:\n",
    "            return currentLevel\n",
    "\n",
    "        positionOfZero = currentState.index(0)\n",
    "\n",
    "        if positionOfZero not in [0,1,2,3]:\n",
    "            newState = currentState.copy()\n",
    "            #swap\n",
    "            newState[positionOfZero], newState[positionOfZero-4] = newState[positionOfZero-4], newState[positionOfZero]\n",
    "\n",
    "            if tuple(newState) not in visited:\n",
    "                visited.add(tuple(newState))\n",
    "                queue.append((newState,currentLevel+1))\n",
    "        \n",
    "        if positionOfZero not in [4,5,6,7]:\n",
    "            newState = currentState.copy()\n",
    "            newState[positionOfZero], newState[positionOfZero+4] = newState[positionOfZero+4], newState[positionOfZero]\n",
    "\n",
    "            if tuple(newState) not in visited:\n",
    "                visited.add(tuple(newState))\n",
    "                queue.append((newState,currentLevel+1))\n",
    "        \n",
    "        if positionOfZero not in [0,4]:\n",
    "            newState = currentState.copy()\n",
    "            newState[positionOfZero], newState[positionOfZero-1] = newState[positionOfZero-1], newState[positionOfZero]\n",
    "\n",
    "            if tuple(newState) not in visited:\n",
    "                visited.add(tuple(newState))\n",
    "                queue.append((newState,currentLevel+1))\n",
    "        \n",
    "        if positionOfZero not in [3,7]:\n",
    "            newState = currentState.copy()\n",
    "            newState[positionOfZero], newState[positionOfZero+1] = newState[positionOfZero+1], newState[positionOfZero]\n",
    "\n",
    "            if tuple(newState) not in visited:\n",
    "                visited.add(tuple(newState))\n",
    "                queue.append((newState,currentLevel+1))\n",
    "\n",
    "    return -1\n"
   ]
  },
  {
   "cell_type": "markdown",
   "metadata": {},
   "source": [
    "# Combination for telephone pad\n",
    "\n",
    "All posible words and the output string should be sorted"
   ]
  },
  {
   "cell_type": "code",
   "execution_count": 24,
   "metadata": {},
   "outputs": [],
   "source": [
    "from typing import List, Dict\n",
    "def combinations(number: int) -> List[str]:\n",
    "    numberMap = {\n",
    "        0:\" \",\n",
    "        1:\" \",\n",
    "        2:\"abc\",\n",
    "        3:\"def\",\n",
    "        4:\"ghi\",\n",
    "        5:\"jkl\",\n",
    "        6:\"mno\",\n",
    "        7:\"pqrs\",\n",
    "        8:\"tuv\",\n",
    "        9:\"wxyz\"\n",
    "    }\n",
    "    result = []\n",
    "    dfs(numberMap,number,0,[],result)\n",
    "    return result\n",
    "\n",
    "\n",
    "\n",
    "def dfs(numberMap: Dict[int,str], number: int, numIndex: int, sb: List[str], result: List[str]):\n",
    "    # each level: select a possible char for a given number\n",
    "    # number of children: the number of possible chars for a given number\n",
    "\n",
    "    # base case: used all numbers\n",
    "    if (numIndex == len(str(number))):\n",
    "        result.append(\"\".join(sb))\n",
    "        return\n",
    "    \n",
    "    possibleChars = numberMap[int(str(number)[numIndex])]\n",
    "    # dfs\n",
    "    for char in possibleChars:\n",
    "        if char != \" \":\n",
    "            sb.append(char)\n",
    "            dfs(numberMap, number, numIndex+1,sb,result)\n",
    "            sb.pop()\n",
    "        else:\n",
    "            dfs(numberMap, number, numIndex+1,sb,result)\n",
    "    \n",
    "    return\n",
    "    \n",
    "\n",
    "\n"
   ]
  },
  {
   "cell_type": "markdown",
   "metadata": {},
   "source": [
    "# Two Subsets with min Difference\n",
    "\n",
    "[1,3,2] -> 0, [1,2];[3]\n",
    "\n",
    "[1,3,2,5,8] -> 1, [3,5,1];[2,8]"
   ]
  },
  {
   "cell_type": "code",
   "execution_count": 99,
   "metadata": {},
   "outputs": [],
   "source": [
    "def minDifference(array):\n",
    "\n",
    "    def dfs(totalSum, currentSum,anotherSum,currentSize, anotherSize, i):\n",
    "        # each level represent whether a number go into first subset\n",
    "        \n",
    "        # base case\n",
    "        # When the size of first subset has reached n/2\n",
    "        # When the size of second subset has reached n/2\n",
    "        if (len(array) % 2 ==0) and (currentSize == len(array)//2):\n",
    "            \n",
    "            return abs((totalSum - currentSum) - currentSum)\n",
    "        \n",
    "        if (len(array)%2 == 1) and (currentSize > len(array)//2):\n",
    "           \n",
    "            return abs((totalSum - currentSum) - currentSum)\n",
    "\n",
    "        \n",
    "        if (anotherSize == len(array)//2):\n",
    "            return abs((totalSum - anotherSum) - anotherSum)\n",
    "        \n",
    "        return min(\n",
    "            # add to first subset\n",
    "            dfs(totalSum,currentSum+array[i-1],anotherSum,currentSize+1,anotherSize,i-1),\n",
    "            dfs(totalSum,currentSum,anotherSum+array[i-1],currentSize,anotherSize+1,i-1)\n",
    "        )\n",
    "    \n",
    "    totalSum = sum(array)\n",
    "    return dfs(totalSum,0,0,0,0,len(array))\n",
    "\n"
   ]
  },
  {
   "cell_type": "code",
   "execution_count": 98,
   "metadata": {},
   "outputs": [
    {
     "data": {
      "text/plain": [
       "76"
      ]
     },
     "execution_count": 98,
     "metadata": {},
     "output_type": "execute_result"
    }
   ],
   "source": [
    "minDifference([1,3,2,20,100])"
   ]
  },
  {
   "cell_type": "markdown",
   "metadata": {},
   "source": [
    "# Restore IP\n",
    "\"25525511135\" -> [\"255.255.11.135\",\"255.255.111.35\"]"
   ]
  },
  {
   "cell_type": "code",
   "execution_count": 105,
   "metadata": {},
   "outputs": [],
   "source": [
    "def restore(ip):\n",
    "    result = []\n",
    "    def dfs(ip,parts,position,sb,result):\n",
    "        # each level: decide the position of the dot\n",
    "        # only three possible position\n",
    "\n",
    "        #base case: have all 4 parts\n",
    "        if parts == 4 and position == len(ip):\n",
    "            result.append(sb)\n",
    "            return\n",
    "        \n",
    "        for i in range(1,4):\n",
    "            # used all ip\n",
    "            if (position+i > len(ip)):\n",
    "                break\n",
    "            currentSection = ip[position:position+i]\n",
    "\n",
    "            # no leading zero and within 255\n",
    "            if (currentSection[0] == '0' and len(currentSection) > 1) or (int(currentSection)>255):\n",
    "                break\n",
    "\n",
    "            # valid\n",
    "            # if head section\n",
    "            if parts == 0:\n",
    "                dfs(ip,parts+1,position+i,sb+currentSection,result)\n",
    "    \n",
    "            else:\n",
    "                dfs(ip,parts+1,position+i,sb+\".\"+currentSection,result)\n",
    "\n",
    "        return\n",
    "    dfs(ip,0,0,\"\",result)\n",
    "    return result"
   ]
  },
  {
   "cell_type": "code",
   "execution_count": 110,
   "metadata": {},
   "outputs": [
    {
     "data": {
      "text/plain": [
       "['25.121.211.135', '251.21.211.135', '251.212.11.135', '251.212.111.35']"
      ]
     },
     "execution_count": 110,
     "metadata": {},
     "output_type": "execute_result"
    }
   ],
   "source": [
    "restore(\"25121211135\")"
   ]
  }
 ],
 "metadata": {
  "interpreter": {
   "hash": "d54d874aa15a7efa8559b6c73d86778b32b6ee7330039b7e26fd7d993992944c"
  },
  "kernelspec": {
   "display_name": "Python 3.7.3 64-bit ('base': conda)",
   "name": "python3"
  },
  "language_info": {
   "codemirror_mode": {
    "name": "ipython",
    "version": 3
   },
   "file_extension": ".py",
   "mimetype": "text/x-python",
   "name": "python",
   "nbconvert_exporter": "python",
   "pygments_lexer": "ipython3",
   "version": "3.7.3"
  }
 },
 "nbformat": 4,
 "nbformat_minor": 2
}
