{
 "cells": [
  {
   "cell_type": "markdown",
   "metadata": {},
   "source": [
    "# Fine k smallest number such that s = 3^x * 5^y * 7^z  x,y,z>0  K>=1  \n",
    "3 * 5 * 7\n",
    "3^2 * 5 * 7\n",
    "3 * 5^2 * 7\n",
    "3^3 * 5 * 7"
   ]
  },
  {
   "cell_type": "code",
   "execution_count": 79,
   "metadata": {},
   "outputs": [],
   "source": [
    "import heapq\n",
    "def bfs(k):\n",
    "    \n",
    "    pq = []\n",
    "    heapq.heapify(pq)\n",
    "    visited = set()\n",
    "\n",
    "    heapq.heappush(pq,3*5*7)\n",
    "    visited.add(3*5*7)\n",
    "    for i in range(1,k):\n",
    "        currentVal = heapq.heappop(pq)\n",
    "        a = currentVal * 3  # x + 1\n",
    "        b = currentVal * 5  # y + 1\n",
    "        c = currentVal * 7  # z + 1\n",
    "\n",
    "        if a not in visited:\n",
    "            heapq.heappush(pq,a)\n",
    "            visited.add(a)\n",
    "        \n",
    "        if b not in visited:\n",
    "            heapq.heappush(pq,b)\n",
    "            visited.add(b)\n",
    "        \n",
    "        if c not in visited:\n",
    "            heapq.heappush(pq,c)\n",
    "            visited.add(c)\n",
    "    return heapq.heappop(pq)"
   ]
  },
  {
   "cell_type": "code",
   "execution_count": 81,
   "metadata": {},
   "outputs": [
    {
     "data": {
      "text/plain": [
       "1575"
      ]
     },
     "execution_count": 81,
     "metadata": {},
     "output_type": "execute_result"
    }
   ],
   "source": [
    "bfs(6)"
   ]
  },
  {
   "cell_type": "markdown",
   "metadata": {},
   "source": [
    "# Kth Closest Point to <0,0,0>\n",
    "Given three sorted array. Pull one number from each array to from <x,y,z> find the coordinates of the points closest to <0,0,0>.  \n"
   ]
  },
  {
   "cell_type": "code",
   "execution_count": 112,
   "metadata": {},
   "outputs": [],
   "source": [
    "# x^2 + y^2 + z^2\n",
    "# [1,3,5] [2,4] [3,6]\n",
    "#                         [0 0 0]\n",
    "#         [1 0 0]         [0 1 0]          [0 0 1]\n",
    "# [2 0 0][1 1 0][1 0 1]   \n",
    "\n",
    "\n",
    "\n",
    "\n",
    "import heapq\n",
    "def kclosest(listOne,listTwo,listThree,k):\n",
    "\n",
    "    pq = []\n",
    "    heapq.heapify(pq)\n",
    "    dist = listOne[0]**2 + listTwo[0]**2 + listThree[0]**2\n",
    "    visited = set((0,0,0))\n",
    "    heapq.heappush(pq,(dist,0,0,0))\n",
    "    for _ in range(1,k):\n",
    "        _,l,m,n = heapq.heappop(pq)\n",
    "        if (l+1 < len(listOne) and (l+1,m,n) not in visited):\n",
    "            heapq.heappush(pq,(listOne[l+1]**2 + listTwo[m]**2 + listThree[n]**2,l+1,m,n))\n",
    "            visited.add((l+1,m,n))\n",
    "        if (m+1 < len(listTwo) and (l,m+1,n) not in visited):\n",
    "            heapq.heappush(pq,(listOne[l]**2 + listTwo[m+1]**2 + listThree[n]**2,l,m+1,n)) \n",
    "            visited.add((l,m+1,n))\n",
    "        if (n+1 < len(listThree) and (l,m,n+1) not in visited):\n",
    "            heapq.heappush(pq,(listOne[l]**2 + listTwo[m]**2 + listThree[n+1]**2,l,m,n+1))\n",
    "            visited.add((l,m,n+1))\n",
    "    \n",
    "    _,one,two,three = heapq.heappop(pq)\n",
    "    return [listOne[one],listTwo[two],listThree[three]]\n",
    "\n",
    "    "
   ]
  },
  {
   "cell_type": "code",
   "execution_count": 117,
   "metadata": {},
   "outputs": [
    {
     "data": {
      "text/plain": [
       "[5, 4, 6]"
      ]
     },
     "execution_count": 117,
     "metadata": {},
     "output_type": "execute_result"
    }
   ],
   "source": [
    "kclosest([1,3,5],[2,4],[3,6],12)"
   ]
  },
  {
   "cell_type": "markdown",
   "metadata": {},
   "source": [
    "# Seven Puzzle\n",
    "\n",
    "0 1 2 3\n",
    "4 5 6 7  \n",
    "\n",
    "[4,1,2,3,5,0,6,7]  2  \n",
    "[4,1,2,3        [4,1,2,3          [0,1,2,3  \n",
    " 5,0,6,7]  ->   0,5,6,7]    ->  4,5,6,7] "
   ]
  },
  {
   "cell_type": "code",
   "execution_count": 1,
   "metadata": {},
   "outputs": [],
   "source": [
    "'''\n",
    "At each level, at most three next states\n",
    "Assume values[i] = 0\n",
    "1) swap values[i],values[i-4]  up     special case: i == 0,1,2,3\n",
    "2) swap values[i],values[i+4]  down   special case: i == 4,5,6,7\n",
    "3) swap values[i],values[i-1] left    special case: i == 0,4\n",
    "4) swap values[i],values[i+1] right   special case: i == 3,7\n",
    "'''\n",
    "def numOfSteps(values):\n",
    "\n",
    "    queue = []\n",
    "    visited = set()\n",
    "\n",
    "    # initial states\n",
    "    queue.append((values,0))\n",
    "    visited.add(tuple(values))\n",
    "    while len(queue) != 0:\n",
    "        currentState,currentLevel = queue.pop(0)\n",
    "        \n",
    "        if currentState == [0,1,2,3,4,5,6,7]:\n",
    "            return currentLevel\n",
    "\n",
    "        positionOfZero = currentState.index(0)\n",
    "\n",
    "        if positionOfZero not in [0,1,2,3]:\n",
    "            newState = currentState.copy()\n",
    "            #swap\n",
    "            newState[positionOfZero], newState[positionOfZero-4] = newState[positionOfZero-4], newState[positionOfZero]\n",
    "\n",
    "            if tuple(newState) not in visited:\n",
    "                visited.add(tuple(newState))\n",
    "                queue.append((newState,currentLevel+1))\n",
    "        \n",
    "        if positionOfZero not in [4,5,6,7]:\n",
    "            newState = currentState.copy()\n",
    "            newState[positionOfZero], newState[positionOfZero+4] = newState[positionOfZero+4], newState[positionOfZero]\n",
    "\n",
    "            if tuple(newState) not in visited:\n",
    "                visited.add(tuple(newState))\n",
    "                queue.append((newState,currentLevel+1))\n",
    "        \n",
    "        if positionOfZero not in [0,4]:\n",
    "            newState = currentState.copy()\n",
    "            newState[positionOfZero], newState[positionOfZero-1] = newState[positionOfZero-1], newState[positionOfZero]\n",
    "\n",
    "            if tuple(newState) not in visited:\n",
    "                visited.add(tuple(newState))\n",
    "                queue.append((newState,currentLevel+1))\n",
    "        \n",
    "        if positionOfZero not in [3,7]:\n",
    "            newState = currentState.copy()\n",
    "            newState[positionOfZero], newState[positionOfZero+1] = newState[positionOfZero+1], newState[positionOfZero]\n",
    "\n",
    "            if tuple(newState) not in visited:\n",
    "                visited.add(tuple(newState))\n",
    "                queue.append((newState,currentLevel+1))\n",
    "\n",
    "    return -1\n"
   ]
  },
  {
   "cell_type": "code",
   "execution_count": 3,
   "metadata": {},
   "outputs": [
    {
     "data": {
      "text/plain": [
       "-1"
      ]
     },
     "execution_count": 3,
     "metadata": {},
     "output_type": "execute_result"
    }
   ],
   "source": [
    "numOfSteps([4,1,0,3,5,2,6,7])"
   ]
  },
  {
   "cell_type": "markdown",
   "metadata": {},
   "source": [
    "# Course Prerequisites\n",
    "\n",
    "[[1,0],[2,0],[3,1],[3,2]] -> [0,1,2,3]\n",
    "\n",
    "0 -> 1 -> 3\n",
    "|         |  \n",
    "| -> 2 -> |"
   ]
  },
  {
   "cell_type": "markdown",
   "metadata": {},
   "source": []
  }
 ],
 "metadata": {
  "interpreter": {
   "hash": "d54d874aa15a7efa8559b6c73d86778b32b6ee7330039b7e26fd7d993992944c"
  },
  "kernelspec": {
   "display_name": "Python 3.7.3 64-bit ('base': conda)",
   "name": "python3"
  },
  "language_info": {
   "codemirror_mode": {
    "name": "ipython",
    "version": 3
   },
   "file_extension": ".py",
   "mimetype": "text/x-python",
   "name": "python",
   "nbconvert_exporter": "python",
   "pygments_lexer": "ipython3",
   "version": "3.7.3"
  }
 },
 "nbformat": 4,
 "nbformat_minor": 2
}
